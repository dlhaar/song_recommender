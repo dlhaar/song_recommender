{
 "cells": [
  {
   "cell_type": "markdown",
   "id": "b58d760a-073e-4f46-9359-40caadc6a763",
   "metadata": {},
   "source": [
    "# Lab | Clustering songs"
   ]
  },
  {
   "cell_type": "markdown",
   "id": "e4eac362-b99b-4378-91c7-8e33dc100441",
   "metadata": {},
   "source": [
    "Clustering songs using DBSCAN and KMEANS methods. "
   ]
  },
  {
   "cell_type": "code",
   "execution_count": null,
   "id": "3722f702-a64d-4e2d-b96d-6f962982ff4f",
   "metadata": {},
   "outputs": [],
   "source": [
    "#%pip install -U scikit-learn"
   ]
  },
  {
   "cell_type": "code",
   "execution_count": 2,
   "id": "a4d0898f-9bba-41b0-b162-880ac166a008",
   "metadata": {},
   "outputs": [],
   "source": [
    "import pandas as pd\n",
    "import numpy as np\n",
    "from sklearn.datasets import make_classification\n",
    "from sklearn.cluster import DBSCAN\n",
    "from sklearn.mixture import GaussianMixture\n",
    "from sklearn.preprocessing import StandardScaler\n",
    "from scipy.spatial import distance_matrix\n",
    "from sklearn.metrics import silhouette_score\n",
    "import matplotlib.pyplot as plt\n",
    "from sklearn.cluster import KMeans"
   ]
  },
  {
   "cell_type": "code",
   "execution_count": null,
   "id": "10ea9aa2-8942-4acb-a243-dacd47d3d549",
   "metadata": {},
   "outputs": [],
   "source": [
    "# #read in files and add H or N \n",
    "# hot = pd.read_csv('/Users/deborahhaar/Desktop/ironhack-work/Week_6/Day_2/lab-spotify-api/data/hot_with_features.csv')\n",
    "# hot['dataset'] = 'H'\n",
    "\n",
    "# not_hot = pd.read_csv('/Users/deborahhaar/Desktop/ironhack-work/Week_6/Day_1/lab-not-hot-songs/not_hot_with_features.csv')\n",
    "# not_hot['dataset'] = 'N'\n",
    "\n",
    "# #concat files\n",
    "# all_songs = pd.concat([hot, not_hot], axis = 0)\n",
    "\n",
    "# #save csv\n",
    "# all_songs.to_csv('all_songs.csv', index = False)"
   ]
  },
  {
   "cell_type": "markdown",
   "id": "103af801-2215-4099-9644-c32f7a663847",
   "metadata": {},
   "source": [
    "# DBSCAN"
   ]
  },
  {
   "cell_type": "markdown",
   "id": "e149df20-b5e9-4722-8b8e-cf93541a1bb1",
   "metadata": {},
   "source": [
    "## Getting data"
   ]
  },
  {
   "cell_type": "code",
   "execution_count": 3,
   "id": "2961c917-a1c6-4488-b9a8-61b56b6ffe23",
   "metadata": {},
   "outputs": [],
   "source": [
    "all_songs = pd.read_csv('all_songs.csv')"
   ]
  },
  {
   "cell_type": "code",
   "execution_count": 4,
   "id": "603978c5-4a21-4fc3-b7f7-77f7f09f7dfe",
   "metadata": {},
   "outputs": [
    {
     "data": {
      "text/html": [
       "<div>\n",
       "<style scoped>\n",
       "    .dataframe tbody tr th:only-of-type {\n",
       "        vertical-align: middle;\n",
       "    }\n",
       "\n",
       "    .dataframe tbody tr th {\n",
       "        vertical-align: top;\n",
       "    }\n",
       "\n",
       "    .dataframe thead th {\n",
       "        text-align: right;\n",
       "    }\n",
       "</style>\n",
       "<table border=\"1\" class=\"dataframe\">\n",
       "  <thead>\n",
       "    <tr style=\"text-align: right;\">\n",
       "      <th></th>\n",
       "      <th>id</th>\n",
       "      <th>titles</th>\n",
       "      <th>artists</th>\n",
       "      <th>danceability</th>\n",
       "      <th>energy</th>\n",
       "      <th>acousticness</th>\n",
       "      <th>instrumentalness</th>\n",
       "      <th>tempo</th>\n",
       "      <th>dataset</th>\n",
       "    </tr>\n",
       "  </thead>\n",
       "  <tbody>\n",
       "    <tr>\n",
       "      <th>0</th>\n",
       "      <td>3k79jB4aGmMDUQzEwa46Rz</td>\n",
       "      <td>Vampire</td>\n",
       "      <td>Olivia Rodrigo</td>\n",
       "      <td>0.511</td>\n",
       "      <td>0.532</td>\n",
       "      <td>0.1690</td>\n",
       "      <td>0.000000</td>\n",
       "      <td>137.827</td>\n",
       "      <td>H</td>\n",
       "    </tr>\n",
       "    <tr>\n",
       "      <th>1</th>\n",
       "      <td>59uQI0PADDKeE6UZDTJEe8</td>\n",
       "      <td>Last Night</td>\n",
       "      <td>Morgan Wallen</td>\n",
       "      <td>0.517</td>\n",
       "      <td>0.675</td>\n",
       "      <td>0.4590</td>\n",
       "      <td>0.000000</td>\n",
       "      <td>203.853</td>\n",
       "      <td>H</td>\n",
       "    </tr>\n",
       "    <tr>\n",
       "      <th>2</th>\n",
       "      <td>1Lo0QY9cvc8sUB2vnIOxDT</td>\n",
       "      <td>Fast Car</td>\n",
       "      <td>Luke Combs</td>\n",
       "      <td>0.712</td>\n",
       "      <td>0.603</td>\n",
       "      <td>0.1860</td>\n",
       "      <td>0.000000</td>\n",
       "      <td>97.994</td>\n",
       "      <td>H</td>\n",
       "    </tr>\n",
       "    <tr>\n",
       "      <th>3</th>\n",
       "      <td>0WtM2NBVQNNJLh6scP13H8</td>\n",
       "      <td>Calm Down</td>\n",
       "      <td>Rema &amp; Selena Gomez</td>\n",
       "      <td>0.801</td>\n",
       "      <td>0.806</td>\n",
       "      <td>0.3820</td>\n",
       "      <td>0.000669</td>\n",
       "      <td>106.999</td>\n",
       "      <td>H</td>\n",
       "    </tr>\n",
       "    <tr>\n",
       "      <th>4</th>\n",
       "      <td>0yLdNVWF3Srea0uzk55zFn</td>\n",
       "      <td>Flowers</td>\n",
       "      <td>Miley Cyrus</td>\n",
       "      <td>0.707</td>\n",
       "      <td>0.681</td>\n",
       "      <td>0.0632</td>\n",
       "      <td>0.000005</td>\n",
       "      <td>117.999</td>\n",
       "      <td>H</td>\n",
       "    </tr>\n",
       "  </tbody>\n",
       "</table>\n",
       "</div>"
      ],
      "text/plain": [
       "                       id      titles              artists  danceability  \\\n",
       "0  3k79jB4aGmMDUQzEwa46Rz     Vampire       Olivia Rodrigo         0.511   \n",
       "1  59uQI0PADDKeE6UZDTJEe8  Last Night        Morgan Wallen         0.517   \n",
       "2  1Lo0QY9cvc8sUB2vnIOxDT    Fast Car           Luke Combs         0.712   \n",
       "3  0WtM2NBVQNNJLh6scP13H8   Calm Down  Rema & Selena Gomez         0.801   \n",
       "4  0yLdNVWF3Srea0uzk55zFn     Flowers          Miley Cyrus         0.707   \n",
       "\n",
       "   energy  acousticness  instrumentalness    tempo dataset  \n",
       "0   0.532        0.1690          0.000000  137.827       H  \n",
       "1   0.675        0.4590          0.000000  203.853       H  \n",
       "2   0.603        0.1860          0.000000   97.994       H  \n",
       "3   0.806        0.3820          0.000669  106.999       H  \n",
       "4   0.681        0.0632          0.000005  117.999       H  "
      ]
     },
     "execution_count": 4,
     "metadata": {},
     "output_type": "execute_result"
    }
   ],
   "source": [
    "all_songs.head()"
   ]
  },
  {
   "cell_type": "code",
   "execution_count": 5,
   "id": "da4b5dfe-820a-4c61-818f-9d13344cf0e8",
   "metadata": {},
   "outputs": [],
   "source": [
    "features = all_songs[['danceability', 'energy', 'acousticness', 'instrumentalness', 'tempo']]"
   ]
  },
  {
   "cell_type": "code",
   "execution_count": 6,
   "id": "df220c9d-780e-4db9-a641-45e3f70220b4",
   "metadata": {},
   "outputs": [
    {
     "data": {
      "text/html": [
       "<div>\n",
       "<style scoped>\n",
       "    .dataframe tbody tr th:only-of-type {\n",
       "        vertical-align: middle;\n",
       "    }\n",
       "\n",
       "    .dataframe tbody tr th {\n",
       "        vertical-align: top;\n",
       "    }\n",
       "\n",
       "    .dataframe thead th {\n",
       "        text-align: right;\n",
       "    }\n",
       "</style>\n",
       "<table border=\"1\" class=\"dataframe\">\n",
       "  <thead>\n",
       "    <tr style=\"text-align: right;\">\n",
       "      <th></th>\n",
       "      <th>danceability</th>\n",
       "      <th>energy</th>\n",
       "      <th>acousticness</th>\n",
       "      <th>instrumentalness</th>\n",
       "      <th>tempo</th>\n",
       "    </tr>\n",
       "  </thead>\n",
       "  <tbody>\n",
       "    <tr>\n",
       "      <th>0</th>\n",
       "      <td>0.511</td>\n",
       "      <td>0.532</td>\n",
       "      <td>0.1690</td>\n",
       "      <td>0.000000</td>\n",
       "      <td>137.827</td>\n",
       "    </tr>\n",
       "    <tr>\n",
       "      <th>1</th>\n",
       "      <td>0.517</td>\n",
       "      <td>0.675</td>\n",
       "      <td>0.4590</td>\n",
       "      <td>0.000000</td>\n",
       "      <td>203.853</td>\n",
       "    </tr>\n",
       "    <tr>\n",
       "      <th>2</th>\n",
       "      <td>0.712</td>\n",
       "      <td>0.603</td>\n",
       "      <td>0.1860</td>\n",
       "      <td>0.000000</td>\n",
       "      <td>97.994</td>\n",
       "    </tr>\n",
       "    <tr>\n",
       "      <th>3</th>\n",
       "      <td>0.801</td>\n",
       "      <td>0.806</td>\n",
       "      <td>0.3820</td>\n",
       "      <td>0.000669</td>\n",
       "      <td>106.999</td>\n",
       "    </tr>\n",
       "    <tr>\n",
       "      <th>4</th>\n",
       "      <td>0.707</td>\n",
       "      <td>0.681</td>\n",
       "      <td>0.0632</td>\n",
       "      <td>0.000005</td>\n",
       "      <td>117.999</td>\n",
       "    </tr>\n",
       "  </tbody>\n",
       "</table>\n",
       "</div>"
      ],
      "text/plain": [
       "   danceability  energy  acousticness  instrumentalness    tempo\n",
       "0         0.511   0.532        0.1690          0.000000  137.827\n",
       "1         0.517   0.675        0.4590          0.000000  203.853\n",
       "2         0.712   0.603        0.1860          0.000000   97.994\n",
       "3         0.801   0.806        0.3820          0.000669  106.999\n",
       "4         0.707   0.681        0.0632          0.000005  117.999"
      ]
     },
     "execution_count": 6,
     "metadata": {},
     "output_type": "execute_result"
    }
   ],
   "source": [
    "features.head()"
   ]
  },
  {
   "cell_type": "markdown",
   "id": "4fbaef29-d501-4261-8ddb-251a343c6571",
   "metadata": {},
   "source": [
    "## Scale features and then model"
   ]
  },
  {
   "cell_type": "code",
   "execution_count": 7,
   "id": "3e4802c3-2d61-42f1-a806-e492e9c6c2fd",
   "metadata": {},
   "outputs": [],
   "source": [
    "scaler = StandardScaler()\n",
    "scaler.fit(features)\n",
    "X_scaled_np = scaler.transform(features)\n",
    "X_scaled_df = pd.DataFrame(X_scaled_np, columns=features.columns)\n",
    "\n",
    "model = DBSCAN(min_samples=10) # eps=0.30, min_samples=9: Default values are: eps=0.5, min_samples=5\n",
    "yhat = model.fit_predict(X_scaled_df)"
   ]
  },
  {
   "cell_type": "code",
   "execution_count": 8,
   "id": "4c49db4f-035e-4bb3-a91b-47d7f8b4c17c",
   "metadata": {},
   "outputs": [
    {
     "name": "stdout",
     "output_type": "stream",
     "text": [
      "The Silhouette score of the model is:  -0.04\n"
     ]
    }
   ],
   "source": [
    "print(\"The Silhouette score of the model is: \",round(silhouette_score(X_scaled_df, model.fit_predict(X_scaled_df)),2))"
   ]
  },
  {
   "cell_type": "code",
   "execution_count": 9,
   "id": "304e6256-bb50-4ead-9fec-3c9aac8e278a",
   "metadata": {},
   "outputs": [
    {
     "name": "stderr",
     "output_type": "stream",
     "text": [
      "/var/folders/4v/8q8s246j5t5_2qhs0c6ssd2m0000gn/T/ipykernel_22954/631904484.py:1: SettingWithCopyWarning: \n",
      "A value is trying to be set on a copy of a slice from a DataFrame.\n",
      "Try using .loc[row_indexer,col_indexer] = value instead\n",
      "\n",
      "See the caveats in the documentation: https://pandas.pydata.org/pandas-docs/stable/user_guide/indexing.html#returning-a-view-versus-a-copy\n",
      "  features['cluster'] = yhat\n"
     ]
    }
   ],
   "source": [
    "features['cluster'] = yhat"
   ]
  },
  {
   "cell_type": "code",
   "execution_count": 10,
   "id": "f22ff633-135f-43fd-8e28-f8900295ab52",
   "metadata": {},
   "outputs": [
    {
     "data": {
      "text/plain": [
       "array([-1,  0,  1,  2,  3,  4,  5])"
      ]
     },
     "execution_count": 10,
     "metadata": {},
     "output_type": "execute_result"
    }
   ],
   "source": [
    "clusters = np.unique(yhat)\n",
    "clusters"
   ]
  },
  {
   "cell_type": "markdown",
   "id": "955c97e7-28ba-468c-96b1-1544f93a2ac1",
   "metadata": {},
   "source": [
    "## Fine Tuning"
   ]
  },
  {
   "cell_type": "markdown",
   "id": "fd52d638-e138-4f40-bd8f-e0c2648352f8",
   "metadata": {},
   "source": [
    "### Step 1\n",
    "\n",
    "Compute the distance matrix between all the observations"
   ]
  },
  {
   "cell_type": "code",
   "execution_count": 11,
   "id": "f9fab057-654d-46ce-a26c-25bd20de1563",
   "metadata": {},
   "outputs": [
    {
     "name": "stdout",
     "output_type": "stream",
     "text": [
      "[[0.         2.33567616 1.69037107 ... 1.79253096 2.00790071 1.49699361]\n",
      " [2.33567616 0.         3.67905051 ... 3.91067948 3.5921882  2.71476179]\n",
      " [1.69037107 3.67905051 0.         ... 0.97318125 1.31072531 2.35720364]\n",
      " ...\n",
      " [1.79253096 3.91067948 0.97318125 ... 0.         1.57884897 2.23102879]\n",
      " [2.00790071 3.5921882  1.31072531 ... 1.57884897 0.         3.10717464]\n",
      " [1.49699361 2.71476179 2.35720364 ... 2.23102879 3.10717464 0.        ]]\n"
     ]
    }
   ],
   "source": [
    "d = distance_matrix(X_scaled_df,X_scaled_df)\n",
    "print(d)"
   ]
  },
  {
   "cell_type": "markdown",
   "id": "12491b44-7a04-458f-a3c0-ef4dcfaf7609",
   "metadata": {},
   "source": [
    "### Step 2\n",
    "\n",
    "Sort the matrix by row and ignore the first element as it is the distance between every point and itself (ie 0)"
   ]
  },
  {
   "cell_type": "code",
   "execution_count": 12,
   "id": "fe358d8f-656c-4072-b043-aa2acb7524b5",
   "metadata": {},
   "outputs": [
    {
     "name": "stdout",
     "output_type": "stream",
     "text": [
      "[[0.20177759 0.31841806 0.35068299 ... 5.59051469 5.6160334  5.72519607]\n",
      " [0.69899208 0.74168947 0.78300809 ... 7.63731237 7.65501124 7.68517333]\n",
      " [0.25705364 0.29542546 0.32029051 ... 5.37404503 5.38414031 5.47236136]\n",
      " ...\n",
      " [0.22001974 0.23316568 0.26468121 ... 5.05641645 5.12060015 5.15035135]\n",
      " [0.25969917 0.28288086 0.30471672 ... 5.90811743 6.00031544 6.03301982]\n",
      " [0.27098492 0.34938491 0.37455353 ... 5.2868069  5.30649159 5.61152829]]\n"
     ]
    }
   ],
   "source": [
    "d2 = np.sort(d)[:,1:]\n",
    "print(d2)"
   ]
  },
  {
   "cell_type": "markdown",
   "id": "f293514e-7573-4d0b-9ee8-bae356dc8a94",
   "metadata": {},
   "source": [
    "### Step 3\n",
    "MinPoints = 2*number of features.\n",
    "\n",
    "We have 5 features so the number of points in the neighborhood is 10. \n",
    "\n",
    "Selecting the 9th column to get the 10th distance from each point."
   ]
  },
  {
   "cell_type": "code",
   "execution_count": 13,
   "id": "5f8d0d57-7c2d-4ca8-8ccc-50c939da07e3",
   "metadata": {},
   "outputs": [
    {
     "name": "stdout",
     "output_type": "stream",
     "text": [
      "[0.47778772 1.01524758 0.4206018  ... 0.45871158 0.35853376 0.57682383]\n"
     ]
    }
   ],
   "source": [
    "f = d2[:,9]\n",
    "print(f)"
   ]
  },
  {
   "cell_type": "markdown",
   "id": "4ed20eb1-4c5b-404b-8244-f2ab58f3805d",
   "metadata": {},
   "source": [
    "### Step 4\n",
    "\n",
    "Sort the 10-th distances in descending order."
   ]
  },
  {
   "cell_type": "code",
   "execution_count": 14,
   "id": "3929b82e-2de8-4608-95e9-8fb74d96913a",
   "metadata": {},
   "outputs": [
    {
     "name": "stdout",
     "output_type": "stream",
     "text": [
      "[3.1715953  3.16604301 2.99771131 ... 0.23587446 0.23283112 0.23220208]\n"
     ]
    }
   ],
   "source": [
    "f_final = np.sort(f)[::-1]\n",
    "print(f_final)"
   ]
  },
  {
   "cell_type": "markdown",
   "id": "b59a9d6c-5fc3-4e89-9a73-2ac85af470c8",
   "metadata": {},
   "source": [
    "### Step 5\n",
    "\n",
    "Plot the distances and hope for a clear elbow"
   ]
  },
  {
   "cell_type": "code",
   "execution_count": 15,
   "id": "12ae882c-5b52-4b5b-bdbd-71c07ab62b5a",
   "metadata": {},
   "outputs": [
    {
     "data": {
      "image/png": "[encoded data removed]",
      "text/plain": [
       "<Figure size 640x480 with 1 Axes>"
      ]
     },
     "metadata": {},
     "output_type": "display_data"
    }
   ],
   "source": [
    "plt.scatter(range(1,len(f_final)+1), f_final)\n",
    "plt.xlabel(\"Index\")\n",
    "plt.ylabel(\"Distance\")\n",
    "# Get the index of the distance which is closer to 0.5 as 0.5 is the default value for epsilon in DBSCAN\n",
    "min_index = np.argmin(np.abs(f_final - 0.5))\n",
    "xnew = min_index\n",
    "ynew = f_final[min_index]\n",
    "plt.axvline(xnew, color='red', linewidth=0.5)\n",
    "plt.axhline(ynew, color='red', linewidth=0.5)\n",
    "plt.grid()\n",
    "plt.show()"
   ]
  },
  {
   "cell_type": "markdown",
   "id": "2d3313cc-dcbd-4f27-ad8e-1ad19a1f8b0a",
   "metadata": {},
   "source": [
    "## Exploring Epislon values"
   ]
  },
  {
   "cell_type": "code",
   "execution_count": 16,
   "id": "eddcd31e-6b65-4881-80a4-21a66c8b0518",
   "metadata": {},
   "outputs": [
    {
     "data": {
      "text/plain": [
       "array([1. , 1.1, 1.2, 1.3, 1.4])"
      ]
     },
     "execution_count": 16,
     "metadata": {},
     "output_type": "execute_result"
    }
   ],
   "source": [
    "#testing values between 1.0 and 1.5\n",
    "np.arange(1.0,1.5,0.1)"
   ]
  },
  {
   "cell_type": "code",
   "execution_count": 17,
   "id": "dd6fe7bc-3184-42c6-97e0-91adfd0dc411",
   "metadata": {},
   "outputs": [],
   "source": [
    "models = {}\n",
    "\n",
    "for value in np.arange(1.0,1.5,0.1):\n",
    "    model = DBSCAN(eps=value, min_samples=10) # min_samples = 2 * #features\n",
    "    # fit model and predict clusters\n",
    "    yhat = model.fit_predict(X_scaled_df)\n",
    "    score =  round(silhouette_score(X_scaled_df, model.fit_predict(X_scaled_df)),2)\n",
    "    models[\"model_\"+str(round(value,2))] = {\"model\":model,\"yhat\": yhat, \"score\": score}"
   ]
  },
  {
   "cell_type": "code",
   "execution_count": 18,
   "id": "5cc4b6e9-1422-4e03-9d38-00eb2bbb4667",
   "metadata": {},
   "outputs": [
    {
     "data": {
      "image/png": "[encoded data removed]",
      "text/plain": [
       "<Figure size 1200x700 with 1 Axes>"
      ]
     },
     "metadata": {},
     "output_type": "display_data"
    }
   ],
   "source": [
    "import matplotlib.ticker as ticker\n",
    "\n",
    "epsilons = [round(value,2) for value in np.arange(1.0,1.5,0.1)]\n",
    "scores = [item[1][\"score\"] for item in list(models.items())]\n",
    "\n",
    "fig, ax = plt.subplots(figsize=(12,7))\n",
    "ax.plot(epsilons, scores)\n",
    "ax.set_xlabel(\"Epsilon\")\n",
    "ax.set_ylabel(\"Silhouette score\")\n",
    "ax.xaxis.set_ticks(np.arange(min(epsilons), max(epsilons), 0.05))\n",
    "ax.xaxis.set_major_formatter(ticker.FormatStrFormatter('%0.2f'))\n",
    "ax.yaxis.set_ticks(np.arange(min(scores), max(scores)+0.1, 0.02))\n",
    "ax.yaxis.set_major_formatter(ticker.FormatStrFormatter('%0.2f'))\n",
    "plt.grid()\n",
    "plt.tight_layout()\n",
    "plt.show()"
   ]
  },
  {
   "cell_type": "code",
   "execution_count": 19,
   "id": "7a7ff3a8-1ae0-42de-85bd-866ba7f2a4ad",
   "metadata": {},
   "outputs": [],
   "source": [
    "scaler = StandardScaler()\n",
    "scaler.fit(features)\n",
    "X_scaled_np = scaler.transform(features)\n",
    "X_scaled_df = pd.DataFrame(X_scaled_np, columns=features.columns)\n",
    "\n",
    "model = DBSCAN(eps = 1.1, min_samples=10) # eps=0.30, min_samples=9: Default values are: eps=0.5, min_samples=5\n",
    "yhat = model.fit_predict(X_scaled_df)"
   ]
  },
  {
   "cell_type": "code",
   "execution_count": 20,
   "id": "b672ad95-2c8a-40c9-b37d-a8187f20d8be",
   "metadata": {},
   "outputs": [
    {
     "data": {
      "text/plain": [
       "array([-1,  0,  1,  2,  3,  4,  5,  6])"
      ]
     },
     "execution_count": 20,
     "metadata": {},
     "output_type": "execute_result"
    }
   ],
   "source": [
    "clusters = np.unique(yhat)\n",
    "clusters"
   ]
  },
  {
   "cell_type": "code",
   "execution_count": 21,
   "id": "c10fc32e-fab5-4835-9b82-988f48dd7380",
   "metadata": {},
   "outputs": [
    {
     "name": "stderr",
     "output_type": "stream",
     "text": [
      "/var/folders/4v/8q8s246j5t5_2qhs0c6ssd2m0000gn/T/ipykernel_22954/3993951070.py:1: SettingWithCopyWarning: \n",
      "A value is trying to be set on a copy of a slice from a DataFrame.\n",
      "Try using .loc[row_indexer,col_indexer] = value instead\n",
      "\n",
      "See the caveats in the documentation: https://pandas.pydata.org/pandas-docs/stable/user_guide/indexing.html#returning-a-view-versus-a-copy\n",
      "  features['DBSCAN_cluster'] = yhat\n"
     ]
    }
   ],
   "source": [
    "features['DBSCAN_cluster'] = yhat"
   ]
  },
  {
   "cell_type": "code",
   "execution_count": 22,
   "id": "2df8b662-edbf-4665-a734-4e8863d44226",
   "metadata": {},
   "outputs": [
    {
     "data": {
      "text/html": [
       "<div>\n",
       "<style scoped>\n",
       "    .dataframe tbody tr th:only-of-type {\n",
       "        vertical-align: middle;\n",
       "    }\n",
       "\n",
       "    .dataframe tbody tr th {\n",
       "        vertical-align: top;\n",
       "    }\n",
       "\n",
       "    .dataframe thead th {\n",
       "        text-align: right;\n",
       "    }\n",
       "</style>\n",
       "<table border=\"1\" class=\"dataframe\">\n",
       "  <thead>\n",
       "    <tr style=\"text-align: right;\">\n",
       "      <th></th>\n",
       "      <th>danceability</th>\n",
       "      <th>energy</th>\n",
       "      <th>acousticness</th>\n",
       "      <th>instrumentalness</th>\n",
       "      <th>tempo</th>\n",
       "      <th>cluster</th>\n",
       "      <th>DBSCAN_cluster</th>\n",
       "    </tr>\n",
       "  </thead>\n",
       "  <tbody>\n",
       "    <tr>\n",
       "      <th>0</th>\n",
       "      <td>0.511</td>\n",
       "      <td>0.5320</td>\n",
       "      <td>0.169000</td>\n",
       "      <td>0.000000</td>\n",
       "      <td>137.827</td>\n",
       "      <td>0</td>\n",
       "      <td>0</td>\n",
       "    </tr>\n",
       "    <tr>\n",
       "      <th>1</th>\n",
       "      <td>0.517</td>\n",
       "      <td>0.6750</td>\n",
       "      <td>0.459000</td>\n",
       "      <td>0.000000</td>\n",
       "      <td>203.853</td>\n",
       "      <td>-1</td>\n",
       "      <td>1</td>\n",
       "    </tr>\n",
       "    <tr>\n",
       "      <th>2</th>\n",
       "      <td>0.712</td>\n",
       "      <td>0.6030</td>\n",
       "      <td>0.186000</td>\n",
       "      <td>0.000000</td>\n",
       "      <td>97.994</td>\n",
       "      <td>0</td>\n",
       "      <td>0</td>\n",
       "    </tr>\n",
       "    <tr>\n",
       "      <th>3</th>\n",
       "      <td>0.801</td>\n",
       "      <td>0.8060</td>\n",
       "      <td>0.382000</td>\n",
       "      <td>0.000669</td>\n",
       "      <td>106.999</td>\n",
       "      <td>-1</td>\n",
       "      <td>1</td>\n",
       "    </tr>\n",
       "    <tr>\n",
       "      <th>4</th>\n",
       "      <td>0.707</td>\n",
       "      <td>0.6810</td>\n",
       "      <td>0.063200</td>\n",
       "      <td>0.000005</td>\n",
       "      <td>117.999</td>\n",
       "      <td>0</td>\n",
       "      <td>0</td>\n",
       "    </tr>\n",
       "    <tr>\n",
       "      <th>...</th>\n",
       "      <td>...</td>\n",
       "      <td>...</td>\n",
       "      <td>...</td>\n",
       "      <td>...</td>\n",
       "      <td>...</td>\n",
       "      <td>...</td>\n",
       "      <td>...</td>\n",
       "    </tr>\n",
       "    <tr>\n",
       "      <th>3092</th>\n",
       "      <td>0.395</td>\n",
       "      <td>0.0533</td>\n",
       "      <td>0.975000</td>\n",
       "      <td>0.960000</td>\n",
       "      <td>115.798</td>\n",
       "      <td>1</td>\n",
       "      <td>3</td>\n",
       "    </tr>\n",
       "    <tr>\n",
       "      <th>3093</th>\n",
       "      <td>0.444</td>\n",
       "      <td>0.4170</td>\n",
       "      <td>0.826000</td>\n",
       "      <td>0.906000</td>\n",
       "      <td>96.696</td>\n",
       "      <td>1</td>\n",
       "      <td>3</td>\n",
       "    </tr>\n",
       "    <tr>\n",
       "      <th>3094</th>\n",
       "      <td>0.551</td>\n",
       "      <td>0.6570</td>\n",
       "      <td>0.251000</td>\n",
       "      <td>0.000000</td>\n",
       "      <td>85.255</td>\n",
       "      <td>0</td>\n",
       "      <td>0</td>\n",
       "    </tr>\n",
       "    <tr>\n",
       "      <th>3095</th>\n",
       "      <td>0.692</td>\n",
       "      <td>0.9440</td>\n",
       "      <td>0.000801</td>\n",
       "      <td>0.008070</td>\n",
       "      <td>108.002</td>\n",
       "      <td>0</td>\n",
       "      <td>0</td>\n",
       "    </tr>\n",
       "    <tr>\n",
       "      <th>3096</th>\n",
       "      <td>0.443</td>\n",
       "      <td>0.3260</td>\n",
       "      <td>0.648000</td>\n",
       "      <td>0.000000</td>\n",
       "      <td>131.650</td>\n",
       "      <td>0</td>\n",
       "      <td>0</td>\n",
       "    </tr>\n",
       "  </tbody>\n",
       "</table>\n",
       "<p>3097 rows × 7 columns</p>\n",
       "</div>"
      ],
      "text/plain": [
       "      danceability  energy  acousticness  instrumentalness    tempo  cluster  \\\n",
       "0            0.511  0.5320      0.169000          0.000000  137.827        0   \n",
       "1            0.517  0.6750      0.459000          0.000000  203.853       -1   \n",
       "2            0.712  0.6030      0.186000          0.000000   97.994        0   \n",
       "3            0.801  0.8060      0.382000          0.000669  106.999       -1   \n",
       "4            0.707  0.6810      0.063200          0.000005  117.999        0   \n",
       "...            ...     ...           ...               ...      ...      ...   \n",
       "3092         0.395  0.0533      0.975000          0.960000  115.798        1   \n",
       "3093         0.444  0.4170      0.826000          0.906000   96.696        1   \n",
       "3094         0.551  0.6570      0.251000          0.000000   85.255        0   \n",
       "3095         0.692  0.9440      0.000801          0.008070  108.002        0   \n",
       "3096         0.443  0.3260      0.648000          0.000000  131.650        0   \n",
       "\n",
       "      DBSCAN_cluster  \n",
       "0                  0  \n",
       "1                  1  \n",
       "2                  0  \n",
       "3                  1  \n",
       "4                  0  \n",
       "...              ...  \n",
       "3092               3  \n",
       "3093               3  \n",
       "3094               0  \n",
       "3095               0  \n",
       "3096               0  \n",
       "\n",
       "[3097 rows x 7 columns]"
      ]
     },
     "execution_count": 22,
     "metadata": {},
     "output_type": "execute_result"
    }
   ],
   "source": [
    "features"
   ]
  },
  {
   "cell_type": "markdown",
   "id": "5fceac92-4fe9-4f73-8905-17d87ccb094c",
   "metadata": {},
   "source": [
    "The first `cluster` column was the initial cluster, the second cluster column `DBSCAN_cluster` is the clustering after the epsilon tuning."
   ]
  },
  {
   "cell_type": "markdown",
   "id": "d0f12df9-bc74-44c4-9a3c-5d662498ddf9",
   "metadata": {},
   "source": [
    "# KMEANS"
   ]
  },
  {
   "cell_type": "markdown",
   "id": "b70127d6-c659-44d8-824e-f14974f16819",
   "metadata": {},
   "source": [
    "## Getting data"
   ]
  },
  {
   "cell_type": "code",
   "execution_count": 23,
   "id": "10c27714-0961-4f14-b4a1-8e7a2c82c4f5",
   "metadata": {},
   "outputs": [],
   "source": [
    "all_songs2 = pd.read_csv('all_songs.csv')"
   ]
  },
  {
   "cell_type": "code",
   "execution_count": 24,
   "id": "4bad7618-27e7-43fe-9c89-5c3a8c3372be",
   "metadata": {},
   "outputs": [],
   "source": [
    "features2 = all_songs2[['danceability', 'energy', 'acousticness', 'instrumentalness', 'tempo']]"
   ]
  },
  {
   "cell_type": "markdown",
   "id": "17c0b878-8d35-4f8a-a3bb-b585e675bdae",
   "metadata": {},
   "source": [
    "## Scaling features"
   ]
  },
  {
   "cell_type": "code",
   "execution_count": 26,
   "id": "7f947043-283c-48d0-b049-f7b05f367fda",
   "metadata": {},
   "outputs": [],
   "source": [
    "import pickle\n",
    "\n",
    "scaler =StandardScaler()\n",
    "scaler.fit(features2)\n",
    "features2_scaled =scaler.transform(features2)\n",
    "\n",
    "with open(\"kmeans_scaler.pickle\", \"wb\") as file:\n",
    "        pickle.dump(scaler,file)\n",
    "        \n",
    "features2_scaled_df = pd.DataFrame(features2_scaled, columns = features2.columns)"
   ]
  },
  {
   "cell_type": "markdown",
   "id": "49b6671d-fe9e-4b53-bd8f-a51a3bbc5428",
   "metadata": {},
   "source": [
    "## Training models to see determine how many clusters are optimal"
   ]
  },
  {
   "cell_type": "code",
   "execution_count": 29,
   "id": "ae2f803f-327b-4203-8aeb-4746259cb785",
   "metadata": {},
   "outputs": [
    {
     "name": "stdout",
     "output_type": "stream",
     "text": [
      "Training a K-Means model with 5 clusters!\n",
      "\n",
      "Training a K-Means model with 6 clusters!\n",
      "\n",
      "Training a K-Means model with 7 clusters!\n",
      "\n",
      "Training a K-Means model with 8 clusters!\n",
      "\n",
      "Training a K-Means model with 9 clusters!\n",
      "\n",
      "Training a K-Means model with 10 clusters!\n",
      "\n",
      "Training a K-Means model with 11 clusters!\n",
      "\n",
      "Training a K-Means model with 12 clusters!\n",
      "\n",
      "Training a K-Means model with 13 clusters!\n",
      "\n",
      "Training a K-Means model with 14 clusters!\n",
      "\n",
      "Training a K-Means model with 15 clusters!\n",
      "\n",
      "Training a K-Means model with 16 clusters!\n",
      "\n",
      "Training a K-Means model with 17 clusters!\n",
      "\n",
      "Training a K-Means model with 18 clusters!\n",
      "\n",
      "Training a K-Means model with 19 clusters!\n",
      "\n"
     ]
    },
    {
     "data": {
      "text/plain": [
       "Text(0.5, 1.0, 'Silhouette Method showing the optimal k')"
      ]
     },
     "execution_count": 29,
     "metadata": {},
     "output_type": "execute_result"
    },
    {
     "data": {
      "image/png": "[encoded data removed]",
      "text/plain": [
       "<Figure size 1200x600 with 2 Axes>"
      ]
     },
     "metadata": {},
     "output_type": "display_data"
    }
   ],
   "source": [
    "K = range(5, 20)\n",
    "\n",
    "inertia = []\n",
    "silhouette = []\n",
    "\n",
    "for k in K:\n",
    "    print(\"Training a K-Means model with {} clusters!\".format(k))\n",
    "    print()\n",
    "    kmeans = KMeans(n_clusters=k,\n",
    "                    random_state=1234,\n",
    "                   n_init=10) # can set verbose=1 for info\n",
    "    kmeans.fit(features2_scaled_df)\n",
    "    \n",
    "    filename = \"kmeans_\" + str(k) + \".pickle\" \n",
    "    with open(filename, \"wb\") as file:\n",
    "        pickle.dump(kmeans,file)\n",
    "\n",
    "    inertia.append(kmeans.inertia_)\n",
    "    silhouette.append(silhouette_score(features2_scaled_df, kmeans.predict(features2_scaled_df)))\n",
    "\n",
    "\n",
    "import numpy as np\n",
    "import matplotlib.pyplot as plt\n",
    "%matplotlib inline\n",
    "\n",
    "fig, ax = plt.subplots(1,2,figsize=(12,6))\n",
    "ax[0].plot(K, inertia, 'bx-')\n",
    "ax[0].set_xlabel('k')\n",
    "ax[0].set_ylabel('inertia')\n",
    "ax[0].set_xticks(np.arange(min(K), max(K)+1, 1.0))\n",
    "ax[0].set_title('Elbow Method showing the optimal k')\n",
    "ax[1].plot(K, silhouette, 'bx-')\n",
    "ax[1].set_xlabel('k')\n",
    "ax[1].set_ylabel('silhouette score')\n",
    "ax[1].set_xticks(np.arange(min(K), max(K)+1, 1.0))\n",
    "ax[1].set_title('Silhouette Method showing the optimal k')"
   ]
  },
  {
   "cell_type": "markdown",
   "id": "aee3f4c4-ed55-46d0-9163-a91712bdc139",
   "metadata": {},
   "source": [
    "We decided to use the KMEANS model with 13 clusters."
   ]
  },
  {
   "cell_type": "code",
   "execution_count": null,
   "id": "5a04ba91-3bf6-4dc7-acd0-e975fb63b1a2",
   "metadata": {},
   "outputs": [],
   "source": []
  }
 ],
 "metadata": {
  "kernelspec": {
   "display_name": "venv",
   "language": "python",
   "name": "venv"
  },
  "language_info": {
   "codemirror_mode": {
    "name": "ipython",
    "version": 3
   },
   "file_extension": ".py",
   "mimetype": "text/x-python",
   "name": "python",
   "nbconvert_exporter": "python",
   "pygments_lexer": "ipython3",
   "version": "3.11.4"
  }
 },
 "nbformat": 4,
 "nbformat_minor": 5
}
